{
 "cells": [
  {
   "metadata": {},
   "cell_type": "markdown",
   "source": "## python script to improve poor quality of images",
   "id": "4b1ca3df88dec8d6"
  },
  {
   "metadata": {
    "collapsed": true,
    "ExecuteTime": {
     "end_time": "2025-06-23T04:28:12.411560Z",
     "start_time": "2025-06-23T04:27:47.561347Z"
    }
   },
   "cell_type": "code",
   "source": [
    "!pip install opencv-python\n",
    "!pip install numpy"
   ],
   "id": "initial_id",
   "outputs": [
    {
     "name": "stdout",
     "output_type": "stream",
     "text": [
      "Collecting opencv-python\n",
      "  Using cached opencv_python-4.11.0.86-cp37-abi3-win_amd64.whl.metadata (20 kB)\n",
      "Requirement already satisfied: numpy>=1.21.2 in c:\\users\\asing\\pycharmprojects\\accident_detection_system\\.venv\\lib\\site-packages (from opencv-python) (2.2.5)\n",
      "Using cached opencv_python-4.11.0.86-cp37-abi3-win_amd64.whl (39.5 MB)\n",
      "Installing collected packages: opencv-python\n",
      "Successfully installed opencv-python-4.11.0.86\n",
      "Requirement already satisfied: numpy in c:\\users\\asing\\pycharmprojects\\accident_detection_system\\.venv\\lib\\site-packages (2.2.5)\n"
     ]
    }
   ],
   "execution_count": 1
  },
  {
   "metadata": {},
   "cell_type": "code",
   "outputs": [],
   "execution_count": null,
   "source": [
    "input_dir = 'unified_data/normal'\n",
    "output_dir = 'unified_data/normal'\n",
    "\n",
    "# Check if folders exist and list some files\n",
    "print(\" Input dir exists:\", os.path.exists(input_dir))\n",
    "print(\" Files found:\", len(os.listdir(input_dir)))\n",
    "print(\" Sample files:\", os.listdir(input_dir)[:5])\n"
   ],
   "id": "c8aaef6c34d4c2ba"
  },
  {
   "metadata": {},
   "cell_type": "code",
   "outputs": [],
   "execution_count": null,
   "source": [
    "import cv2\n",
    "import numpy as np\n",
    "import os\n",
    "from tqdm import tqdm"
   ],
   "id": "1ca2848c994ebe51"
  },
  {
   "metadata": {},
   "cell_type": "code",
   "outputs": [],
   "execution_count": null,
   "source": [
    "def enhance_image(img):\n",
    "    lab = cv2.cvtColor(img, cv2.COLOR_BGR2LAB)\n",
    "    l, a, b = cv2.split(lab)\n",
    "    clahe = cv2.createCLAHE(clipLimit=2.0, tileGridSize=(8, 8))\n",
    "    cl = clahe.apply(l)\n",
    "    limg = cv2.merge((cl, a, b))\n",
    "    enhanced = cv2.cvtColor(limg, cv2.COLOR_LAB2BGR)\n",
    "    denoised = cv2.fastNlMeansDenoisingColored(enhanced, None, 10, 10, 7, 21)\n",
    "    kernel = np.array([[0, -1, 0], [-1, 5,-1], [0, -1, 0]])\n",
    "    sharpened = cv2.filter2D(denoised, -1, kernel)\n",
    "    return sharpened\n",
    "\n",
    "# Make sure output dir exists\n",
    "os.makedirs(output_dir, exist_ok=True)\n",
    "\n",
    "# Check processing with progress bar and error catching\n",
    "for i, fname in enumerate(tqdm(os.listdir(input_dir))):\n",
    "    if not fname.lower().endswith((\".jpg\", \".jpeg\", \".png\")):\n",
    "        continue\n",
    "\n",
    "    try:\n",
    "        img_path = os.path.join(input_dir, fname)\n",
    "        img = cv2.imread(img_path)\n",
    "\n",
    "        if img is None:\n",
    "            print(f\" Skipping unreadable file: {fname}\")\n",
    "            continue\n",
    "\n",
    "        out = enhance_image(img)\n",
    "        cv2.imwrite(os.path.join(output_dir, fname), out)\n",
    "\n",
    "        if i % 50 == 0:\n",
    "            print(f\" Processed: {fname}\")\n",
    "\n",
    "    except Exception as e:\n",
    "        print(f\" Error processing {fname}: {e}\")\n",
    "\n",
    "print(\" All images processed.\")"
   ],
   "id": "7f5800c6ee45d70d"
  }
 ],
 "metadata": {
  "kernelspec": {
   "display_name": "Python 3",
   "language": "python",
   "name": "python3"
  },
  "language_info": {
   "codemirror_mode": {
    "name": "ipython",
    "version": 2
   },
   "file_extension": ".py",
   "mimetype": "text/x-python",
   "name": "python",
   "nbconvert_exporter": "python",
   "pygments_lexer": "ipython2",
   "version": "2.7.6"
  }
 },
 "nbformat": 4,
 "nbformat_minor": 5
}
